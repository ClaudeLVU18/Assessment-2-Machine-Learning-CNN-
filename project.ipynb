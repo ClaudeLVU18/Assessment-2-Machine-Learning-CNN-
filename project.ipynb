{
 "cells": [
  {
   "cell_type": "code",
   "execution_count": null,
   "metadata": {},
   "outputs": [],
   "source": [
    "# import numpy as np \n",
    "# import random\n",
    "# import matplotlib.pyplot as plt\n",
    "# from tensorflow.keras.models import Sequential\n",
    "# from tensorflow.keras.layers import Conv2D, MaxPooling2D, Dense, Flatten"
   ]
  },
  {
   "cell_type": "markdown",
   "metadata": {},
   "source": [
    "## Load Dataset"
   ]
  },
  {
   "cell_type": "code",
   "execution_count": null,
   "metadata": {},
   "outputs": [],
   "source": [
    "# # Import libraries\n",
    "# import tensorflow as tf\n",
    "# from tensorflow import keras\n",
    "# from tensorflow.keras import layers\n",
    "# from tensorflow.keras.datasets import cifar10\n",
    "\n",
    "# # Load and preprocess the data\n",
    "# (x_train, y_train), (x_test, y_test) = cifar10.load_data()\n",
    "# x_train = x_train / 255.0\n",
    "# x_test = x_test / 255.0\n",
    "# y_train = keras.utils.to_categorical(y_train, 10)\n",
    "# y_test = keras.utils.to_categorical(y_test, 10)\n",
    "\n",
    "# # Build the model\n",
    "# model = keras.Sequential([\n",
    "#     layers.Conv2D(32, (3, 3), activation='relu', input_shape=(32, 32, 3)),\n",
    "#     layers.MaxPooling2D((2, 2)),\n",
    "#     layers.Conv2D(64, (3, 3), activation='relu'),\n",
    "#     layers.MaxPooling2D((2, 2)),\n",
    "#     layers.Conv2D(64, (3, 3), activation='relu'),\n",
    "#     layers.Flatten(),\n",
    "#     layers.Dense(64, activation='relu'),\n",
    "#     layers.Dense(10, activation='softmax')\n",
    "# ])\n",
    "\n",
    "# # Compile the model\n",
    "# model.compile(optimizer='adam',\n",
    "#               loss='categorical_crossentropy',\n",
    "#               metrics=['accuracy'])\n",
    "\n",
    "# # Train the model\n",
    "# model.fit(x_train, y_train, epochs=10, validation_split=0.2)\n",
    "\n",
    "# # Test the model\n",
    "# model.evaluate(x_test, y_test)\n"
   ]
  },
  {
   "cell_type": "code",
   "execution_count": null,
   "metadata": {},
   "outputs": [],
   "source": [
    "import numpy as np\n",
    "import random\n",
    "import matplotlib.pyplot as plt\n",
    "import keras\n",
    "from sklearn.model_selection import train_test_split\n",
    "\n",
    "\n",
    "from keras import optimizers\n",
    "from keras.models import Sequential\n",
    "\n",
    "from tensorflow.keras.models import Sequential\n",
    "from tensorflow.keras.layers import Conv2D, MaxPooling2D, Dense, Flatten"
   ]
  },
  {
   "cell_type": "code",
   "execution_count": null,
   "metadata": {},
   "outputs": [],
   "source": [
    "import pandas as pd #making some of our usual imports inorder to solve the problem in hand \n",
    "import numpy as np\n",
    "import tensorflow as tf\n",
    "from tensorflow.keras.preprocessing import image"
   ]
  },
  {
   "cell_type": "code",
   "execution_count": null,
   "metadata": {},
   "outputs": [],
   "source": [
    "from tensorflow.keras.models import Sequential #importing our deep learing libraries\n",
    "from tensorflow.keras.layers import Conv2D, MaxPooling2D, Flatten, Dense, Dropout, Activation\n",
    "from tensorflow.keras.preprocessing.image import ImageDataGenerator"
   ]
  },
  {
   "cell_type": "markdown",
   "metadata": {},
   "source": [
    "## Load Dataset"
   ]
  },
  {
   "cell_type": "code",
   "execution_count": null,
   "metadata": {},
   "outputs": [],
   "source": [
    "# X_train = np.loadtxt('input.csv', delimiter = ',')\n",
    "# Y_train = np.loadtxt('labels.csv', delimiter = ',')\n",
    "\n",
    "# X_test = np.loadtxt('input_test.csv', delimiter = ',')\n",
    "# Y_test = np.loadtxt('labels_test.csv', delimiter = ',')"
   ]
  },
  {
   "cell_type": "code",
   "execution_count": null,
   "metadata": {},
   "outputs": [],
   "source": [
    "test_dir=\"catdog/dog vs cat/dataset/test_set\" #getting our testing data\n",
    "train_dir=\"catdog/dog vs cat/dataset/training_set\" #getting our training data\n",
    "\n",
    "train_dir_cats = train_dir + '/cats' #storing the cats training images\n",
    "train_dir_dogs = train_dir + '/dogs' #storing the dogs training images\n",
    "test_dir_cats = test_dir + '/cats' #storing the cats testing images\n",
    "test_dir_dogs = test_dir + '/dogs' #storing the dogs testing images"
   ]
  },
  {
   "cell_type": "code",
   "execution_count": null,
   "metadata": {},
   "outputs": [],
   "source": [
    "# X_train = X_train.reshape(len(X_train), 100, 100, 3)\n",
    "# Y_train = Y_train.reshape(len(Y_train), 1)\n",
    "\n",
    "# X_test = X_test.reshape(len(X_test), 100, 100, 3)\n",
    "# Y_test = Y_test.reshape(len(Y_test), 1)\n",
    "\n",
    "# X_train = X_train/255.0\n",
    "# X_test = X_test/255.0"
   ]
  },
  {
   "cell_type": "code",
   "execution_count": null,
   "metadata": {},
   "outputs": [],
   "source": [
    "data_generator = ImageDataGenerator(rescale = 1./250,zoom_range = 0.2)"
   ]
  },
  {
   "cell_type": "code",
   "execution_count": null,
   "metadata": {},
   "outputs": [],
   "source": [
    "# print(X_train.shape)\n",
    "# print(Y_train.shape)\n",
    "# print(X_test.shape)\n",
    "# print(Y_train.shape)"
   ]
  },
  {
   "cell_type": "code",
   "execution_count": null,
   "metadata": {},
   "outputs": [],
   "source": [
    "batch_size = 8 #accessing all our data both training and testing\n",
    "training_data = data_generator.flow_from_directory(directory = train_dir,\n",
    "                                                  target_size = (150,150),\n",
    "                                                  batch_size = batch_size,\n",
    "                                                  class_mode  = 'binary')\n",
    "testing_data = data_generator.flow_from_directory(directory = test_dir,\n",
    "                                                  target_size = (150,150),\n",
    "                                                  batch_size = batch_size,\n",
    "                                                  class_mode  = 'binary')"
   ]
  },
  {
   "cell_type": "markdown",
   "metadata": {},
   "source": [
    "# Change\n"
   ]
  },
  {
   "cell_type": "code",
   "execution_count": null,
   "metadata": {},
   "outputs": [],
   "source": [
    "# model = Sequential() #making our CNN\n",
    "# model.add(Conv2D(filters = 32, kernel_size = (3, 3), activation = 'relu', input_shape = training_data.image_shape))\n",
    "# model.add(MaxPooling2D(pool_size = (2, 2)))\n",
    "# model.add(Dropout(rate = 0.3))\n",
    "# model.add(Conv2D(filters = 64, kernel_size = (3, 3), activation = 'relu'))\n",
    "# model.add(MaxPooling2D(pool_size = (2, 2)))\n",
    "# model.add(Dropout(rate = 0.2))\n",
    "# model.add(Conv2D(filters = 126, kernel_size = (3, 3), activation = 'relu'))\n",
    "# model.add(MaxPooling2D(pool_size = (2, 2)))\n",
    "# model.add(Dropout(rate = 0.15))\n",
    "# model.add(Flatten())\n",
    "# model.add(Dense(units = 32, activation = 'relu'))\n",
    "# model.add(Dropout(rate = 0.15))\n",
    "# model.add(Dense(units = 64, activation = 'relu'))\n",
    "# model.add(Dropout(rate = 0.1))\n",
    "# model.add(Dense(units = len(set(training_data.classes)), activation = 'softmax'))\n",
    "# model.compile(optimizer = 'adam', loss = 'sparse_categorical_crossentropy', metrics = ['accuracy'])"
   ]
  },
  {
   "cell_type": "code",
   "execution_count": null,
   "metadata": {},
   "outputs": [],
   "source": [
    "# fitted_model = model.fit(training_data,\n",
    "#                         steps_per_epoch = 1000,\n",
    "#                         epochs = 25,\n",
    "#                         validation_data = testing_data,\n",
    "#                         validation_steps = 1000)"
   ]
  },
  {
   "cell_type": "code",
   "execution_count": null,
   "metadata": {},
   "outputs": [],
   "source": [
    "# idx = random.randint(0, len(train_dir))\n",
    "# plt.imshow(train_dir[idx, :])\n",
    "# plt.show()"
   ]
  },
  {
   "cell_type": "markdown",
   "metadata": {},
   "source": [
    "## Model"
   ]
  },
  {
   "cell_type": "code",
   "execution_count": null,
   "metadata": {},
   "outputs": [],
   "source": [
    "model = Sequential([\n",
    "    Conv2D(32, (3,3), activation = 'relu', input_shape = training_data.image_shape),\n",
    "    MaxPooling2D((2,2)),\n",
    "    \n",
    "    Conv2D(32, (3,3), activation = 'relu'),\n",
    "    MaxPooling2D((2,2)),\n",
    "    \n",
    "    Flatten(),\n",
    "    Dense(64, activation = 'relu'),\n",
    "    Dense(1, activation = 'sigmoid'),\n",
    "    # Dense(units = 32, activation = 'relu'),\n",
    "    # Dropout(rate = 0.15),\n",
    "    # Dense(units = 64, activation = 'relu'),\n",
    "    # Dropout(rate = 0.1),\n",
    "    Dense(units = len(set(training_data.classes)), activation = 'softmax'),\n",
    "])"
   ]
  },
  {
   "cell_type": "code",
   "execution_count": null,
   "metadata": {},
   "outputs": [],
   "source": [
    "# model = Sequential()\n",
    "\n",
    "# model.add(Conv2D(32, (3,3), activation = 'relu', input_shape = (100, 100, 3)))\n",
    "# model.add(MaxPooling2D((2,2)))\n",
    "\n",
    "# model.add(Conv2D(32, (3,3), activation = 'relu'))\n",
    "# model.add(MaxPooling2D((2,2)))\n",
    "\n",
    "# model.add(Flatten())\n",
    "# model.add(Dense(64, activation = 'relu'))\n",
    "# model.add(Dense(1, activation = 'sigmoid'))"
   ]
  },
  {
   "cell_type": "code",
   "execution_count": null,
   "metadata": {},
   "outputs": [],
   "source": [
    "model.compile(loss = 'binary_crossentropy', optimizer = 'adam', metrics = ['accuracy'])"
   ]
  },
  {
   "cell_type": "code",
   "execution_count": 40,
   "metadata": {},
   "outputs": [
    {
     "name": "stdout",
     "output_type": "stream",
     "text": [
      "1000/1000 [==============================] - ETA: 0s - loss: 0.6833 - accuracy: 0.5673WARNING:tensorflow:Your input ran out of data; interrupting training. Make sure that your dataset or generator can generate at least `steps_per_epoch * epochs` batches (in this case, 1000 batches). You may need to use the repeat() function when building your dataset.\n",
      "1000/1000 [==============================] - 85s 84ms/step - loss: 0.6833 - accuracy: 0.5673 - val_loss: 0.6648 - val_accuracy: 0.5995\n",
      "Epoch 2/25\n",
      "1000/1000 [==============================] - 72s 72ms/step - loss: 0.6474 - accuracy: 0.6321\n",
      "Epoch 3/25\n",
      "1000/1000 [==============================] - 75s 75ms/step - loss: 0.6030 - accuracy: 0.6826\n",
      "Epoch 4/25\n",
      "1000/1000 [==============================] - 75s 75ms/step - loss: 0.5537 - accuracy: 0.7196\n",
      "Epoch 5/25\n",
      "1000/1000 [==============================] - 79s 79ms/step - loss: 0.5087 - accuracy: 0.7486\n",
      "Epoch 6/25\n",
      "1000/1000 [==============================] - 77s 77ms/step - loss: 0.4648 - accuracy: 0.7788\n",
      "Epoch 7/25\n",
      "1000/1000 [==============================] - 75s 75ms/step - loss: 0.4234 - accuracy: 0.8023\n",
      "Epoch 8/25\n",
      "1000/1000 [==============================] - 76s 76ms/step - loss: 0.3966 - accuracy: 0.8163\n",
      "Epoch 9/25\n",
      "1000/1000 [==============================] - 76s 76ms/step - loss: 0.3627 - accuracy: 0.8403\n",
      "Epoch 10/25\n",
      "1000/1000 [==============================] - 78s 78ms/step - loss: 0.3295 - accuracy: 0.8545\n",
      "Epoch 11/25\n",
      "1000/1000 [==============================] - 79s 79ms/step - loss: 0.3118 - accuracy: 0.8671\n",
      "Epoch 12/25\n",
      "1000/1000 [==============================] - 75s 75ms/step - loss: 0.2790 - accuracy: 0.8876\n",
      "Epoch 13/25\n",
      "1000/1000 [==============================] - 76s 76ms/step - loss: 0.2486 - accuracy: 0.8991\n",
      "Epoch 14/25\n",
      "1000/1000 [==============================] - 76s 75ms/step - loss: 0.2375 - accuracy: 0.9016\n",
      "Epoch 15/25\n",
      "1000/1000 [==============================] - 75s 75ms/step - loss: 0.2159 - accuracy: 0.9149\n",
      "Epoch 16/25\n",
      "1000/1000 [==============================] - 76s 76ms/step - loss: 0.1910 - accuracy: 0.9250\n",
      "Epoch 17/25\n",
      "1000/1000 [==============================] - 75s 75ms/step - loss: 0.1894 - accuracy: 0.9273\n",
      "Epoch 18/25\n",
      "1000/1000 [==============================] - 75s 75ms/step - loss: 0.1652 - accuracy: 0.9364\n",
      "Epoch 19/25\n",
      "1000/1000 [==============================] - 75s 75ms/step - loss: 0.1552 - accuracy: 0.9408\n",
      "Epoch 20/25\n",
      "1000/1000 [==============================] - 75s 75ms/step - loss: 0.1448 - accuracy: 0.9449\n",
      "Epoch 21/25\n",
      "1000/1000 [==============================] - 75s 75ms/step - loss: 0.1345 - accuracy: 0.9486\n",
      "Epoch 22/25\n",
      "1000/1000 [==============================] - 76s 76ms/step - loss: 0.1383 - accuracy: 0.9470\n",
      "Epoch 23/25\n",
      "1000/1000 [==============================] - 73s 73ms/step - loss: 0.1245 - accuracy: 0.9531\n",
      "Epoch 24/25\n",
      "1000/1000 [==============================] - 68s 68ms/step - loss: 0.1135 - accuracy: 0.9574\n",
      "Epoch 25/25\n",
      "1000/1000 [==============================] - 72s 72ms/step - loss: 0.1139 - accuracy: 0.9571\n"
     ]
    },
    {
     "data": {
      "text/plain": [
       "<keras.callbacks.History at 0x196edd4fe50>"
      ]
     },
     "execution_count": 40,
     "metadata": {},
     "output_type": "execute_result"
    }
   ],
   "source": [
    "# model.fit(X_train, Y_train, epochs = 10, batch_size = 64)\n",
    "model_fit = model.fit(training_data,\n",
    "                        steps_per_epoch = 1000,\n",
    "                        epochs = 25,\n",
    "                        validation_data = testing_data,\n",
    "                        validation_steps = 1000)"
   ]
  },
  {
   "cell_type": "code",
   "execution_count": 41,
   "metadata": {},
   "outputs": [
    {
     "name": "stdout",
     "output_type": "stream",
     "text": [
      "250/250 [==============================] - 9s 35ms/step - loss: 1.1921 - accuracy: 0.7475\n"
     ]
    },
    {
     "data": {
      "text/plain": [
       "[1.1921491622924805, 0.7475000023841858]"
      ]
     },
     "execution_count": 41,
     "metadata": {},
     "output_type": "execute_result"
    }
   ],
   "source": [
    "model.evaluate(testing_data)"
   ]
  },
  {
   "cell_type": "markdown",
   "metadata": {},
   "source": [
    "Making predictions"
   ]
  },
  {
   "cell_type": "code",
   "execution_count": 42,
   "metadata": {},
   "outputs": [],
   "source": [
    "# idx2 = random.randint(0, len(Y_test))\n",
    "# plt.imshow(testing_data[idx2, :])\n",
    "# plt.show()\n",
    "\n",
    "# y_pred = model.predict(testing_data[idx2, :].reshape(1, 100, 100, 3))\n",
    "# y_pred = y_pred > 0.5\n",
    "\n",
    "# if(y_pred == 0):\n",
    "#     pred = 'dog'\n",
    "# else:\n",
    "#     pred = 'cat'\n",
    "    \n",
    "# print(\"Our model says it is a :\", pred)"
   ]
  },
  {
   "cell_type": "code",
   "execution_count": 50,
   "metadata": {},
   "outputs": [],
   "source": [
    "def testing_image(image_directory):\n",
    "    test_image = image.load_img(image_directory, target_size = (64, 64))\n",
    "    test_image = image.img_to_array(test_image)\n",
    "    test_image = np.expand_dims(test_image, axis = 0)\n",
    "    result = model.predict(x = test_image)\n",
    "    print(result)\n",
    "    if result[0][0]  == 1:\n",
    "        prediction = 'Dog'\n",
    "    else:\n",
    "        prediction = 'Cat'\n",
    "    return prediction"
   ]
  },
  {
   "cell_type": "code",
   "execution_count": 51,
   "metadata": {},
   "outputs": [
    {
     "name": "stdout",
     "output_type": "stream",
     "text": [
      "<function testing_image at 0x00000196F2BE55E0>\n"
     ]
    }
   ],
   "source": [
    "print(testing_image)"
   ]
  },
  {
   "cell_type": "code",
   "execution_count": null,
   "metadata": {},
   "outputs": [],
   "source": [
    "# import numpy as np\n",
    "# import random\n",
    "# import matplotlib.pyplot as plt\n",
    "# import keras\n",
    "# from sklearn.model_selection import train_test_split\n",
    "\n",
    "\n",
    "# from keras import optimizers\n",
    "# from keras.models import Sequential\n",
    "\n",
    "# from tensorflow.keras.models import Sequential\n",
    "# from tensorflow.keras.layers import Conv2D, MaxPooling2D, Dense, Flatten\n",
    "\n",
    "# import pandas as pd #making some of our usual imports inorder to solve the problem in hand \n",
    "# import numpy as np\n",
    "# import tensorflow as tf\n",
    "# from tensorflow.keras.preprocessing import image\n",
    "\n",
    "# from tensorflow.keras.models import Sequential #importing our deep learing libraries\n",
    "# from tensorflow.keras.layers import Conv2D, MaxPooling2D, Flatten, Dense, Dropout, Activation\n",
    "# from tensorflow.keras.preprocessing.image import ImageDataGenerator\n",
    "\n",
    "# test_dir=\"catdog/dog vs cat/dataset/test_set\" #getting our testing data\n",
    "# train_dir=\"catdog/dog vs cat/dataset/training_set\" #getting our training data\n",
    "\n",
    "# train_dir_cats = train_dir + '/cats' #storing the cats training images\n",
    "# train_dir_dogs = train_dir + '/dogs' #storing the dogs training images\n",
    "# test_dir_cats = test_dir + '/cats' #storing the cats testing images\n",
    "# test_dir_dogs = test_dir + '/dogs' #storing the dogs testing images\n",
    "\n",
    "# data_generator = ImageDataGenerator(rescale = 1./250,zoom_range = 0.2)\n",
    "\n",
    "# batch_size = 8 #accessing all our data both training and testing\n",
    "# training_data = data_generator.flow_from_directory(directory = train_dir,\n",
    "#                                                   target_size = (150,150),\n",
    "#                                                   batch_size = batch_size,\n",
    "#                                                   class_mode  = 'binary')\n",
    "# testing_data = data_generator.flow_from_directory(directory = test_dir,\n",
    "#                                                   target_size = (150,150),\n",
    "#                                                   batch_size = batch_size,\n",
    "#                                                   class_mode  = 'binary')\n",
    "\n",
    "# model = Sequential([\n",
    "#     Conv2D(32, (3,3), activation = 'relu', input_shape = training_data.image_shape),\n",
    "#     MaxPooling2D((2,2)),\n",
    "    \n",
    "#     Conv2D(32, (3,3), activation = 'relu'),\n",
    "#     MaxPooling2D((2,2)),\n",
    "    \n",
    "#     Flatten(),\n",
    "#     Dense(64, activation = 'relu'),\n",
    "#     Dense(1, activation = 'sigmoid'),\n",
    "\n",
    "# ])\n",
    "\n",
    "# model.compile(loss = 'binary_crossentropy', optimizer = 'adam', metrics = ['accuracy'])\n",
    "\n",
    "# model.fit(training_data,\n",
    "#                         steps_per_epoch = 1000,\n",
    "#                         epochs = 25,\n",
    "#                         validation_data = testing_data,\n",
    "#                         validation_steps = 1000)\n",
    "\n",
    "# model.evaluate(testing_data)\n",
    "\n",
    "# def testing_image(image_directory):\n",
    "#     test_image = image.load_img(image_directory, target_size = (64, 64))\n",
    "#     test_image = image.img_to_array(test_image)\n",
    "#     test_image = np.expand_dims(test_image, axis = 0)\n",
    "#     result = model.predict(x = test_image)\n",
    "#     print(result)\n",
    "#     if result[0][0]  == 1:\n",
    "#         prediction = 'Dog'\n",
    "#     else:\n",
    "#         prediction = 'Cat'\n",
    "#     return prediction\n",
    "\n",
    "# print(testing_image(test_dir + '/cats/cat.4003.jpg'))"
   ]
  }
 ],
 "metadata": {
  "kernelspec": {
   "display_name": "base",
   "language": "python",
   "name": "python3"
  },
  "language_info": {
   "codemirror_mode": {
    "name": "ipython",
    "version": 3
   },
   "file_extension": ".py",
   "mimetype": "text/x-python",
   "name": "python",
   "nbconvert_exporter": "python",
   "pygments_lexer": "ipython3",
   "version": "3.9.13"
  }
 },
 "nbformat": 4,
 "nbformat_minor": 2
}
